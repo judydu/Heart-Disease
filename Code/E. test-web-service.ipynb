{
  "cells": [
    {
      "cell_type": "markdown",
      "source": [
        "# SET UP"
      ],
      "metadata": {}
    },
    {
      "cell_type": "code",
      "source": [
        "### Import packages\n",
        "from azureml.core import Workspace, Dataset, Environment, Model\n",
        "from azureml.core.webservice import AciWebservice\n",
        "import json"
      ],
      "outputs": [],
      "execution_count": 19,
      "metadata": {
        "gather": {
          "logged": 1650769123011
        }
      }
    },
    {
      "cell_type": "code",
      "source": [
        "### Set up workspace\n",
        "ws = Workspace.from_config()"
      ],
      "outputs": [],
      "execution_count": 20,
      "metadata": {
        "gather": {
          "logged": 1650769126728
        }
      }
    },
    {
      "cell_type": "code",
      "source": [
        "### Retrieve web service\n",
        "aci_service = AciWebservice(ws, \"heart-disease-scoring\")\n",
        "print(aci_service.state)"
      ],
      "outputs": [
        {
          "output_type": "stream",
          "name": "stdout",
          "text": "Healthy\n"
        }
      ],
      "execution_count": 23,
      "metadata": {}
    },
    {
      "cell_type": "markdown",
      "source": [
        "# TEST WEB SERVICE"
      ],
      "metadata": {}
    },
    {
      "cell_type": "markdown",
      "source": [
        "Model has been successfully deployed. Now let's test it using the first few records of the dataset"
      ],
      "metadata": {}
    },
    {
      "cell_type": "code",
      "source": [
        "### Load dataset\n",
        "hd_ds = Dataset.get_by_name(ws, \"heart_disease_data\")\n",
        "hd_df = hd_ds.to_pandas_dataframe()\n",
        "hd_df.head()"
      ],
      "outputs": [
        {
          "output_type": "execute_result",
          "execution_count": 24,
          "data": {
            "text/html": "<div>\n<style scoped>\n    .dataframe tbody tr th:only-of-type {\n        vertical-align: middle;\n    }\n\n    .dataframe tbody tr th {\n        vertical-align: top;\n    }\n\n    .dataframe thead th {\n        text-align: right;\n    }\n</style>\n<table border=\"1\" class=\"dataframe\">\n  <thead>\n    <tr style=\"text-align: right;\">\n      <th></th>\n      <th>63.0</th>\n      <th>1.0</th>\n      <th>1.0_1</th>\n      <th>145.0</th>\n      <th>233.0</th>\n      <th>1.0_2</th>\n      <th>2.0</th>\n      <th>150.0</th>\n      <th>0.0</th>\n      <th>2.3</th>\n      <th>3.0</th>\n      <th>0.0_3</th>\n      <th>6.0</th>\n      <th>0</th>\n    </tr>\n  </thead>\n  <tbody>\n    <tr>\n      <th>0</th>\n      <td>67.0</td>\n      <td>1.0</td>\n      <td>4.0</td>\n      <td>160.0</td>\n      <td>286.0</td>\n      <td>0.0</td>\n      <td>2.0</td>\n      <td>108.0</td>\n      <td>1.0</td>\n      <td>1.5</td>\n      <td>2.0</td>\n      <td>3.0</td>\n      <td>3.0</td>\n      <td>2</td>\n    </tr>\n    <tr>\n      <th>1</th>\n      <td>67.0</td>\n      <td>1.0</td>\n      <td>4.0</td>\n      <td>120.0</td>\n      <td>229.0</td>\n      <td>0.0</td>\n      <td>2.0</td>\n      <td>129.0</td>\n      <td>1.0</td>\n      <td>2.6</td>\n      <td>2.0</td>\n      <td>2.0</td>\n      <td>7.0</td>\n      <td>1</td>\n    </tr>\n    <tr>\n      <th>2</th>\n      <td>37.0</td>\n      <td>1.0</td>\n      <td>3.0</td>\n      <td>130.0</td>\n      <td>250.0</td>\n      <td>0.0</td>\n      <td>0.0</td>\n      <td>187.0</td>\n      <td>0.0</td>\n      <td>3.5</td>\n      <td>3.0</td>\n      <td>0.0</td>\n      <td>3.0</td>\n      <td>0</td>\n    </tr>\n    <tr>\n      <th>3</th>\n      <td>41.0</td>\n      <td>0.0</td>\n      <td>2.0</td>\n      <td>130.0</td>\n      <td>204.0</td>\n      <td>0.0</td>\n      <td>2.0</td>\n      <td>172.0</td>\n      <td>0.0</td>\n      <td>1.4</td>\n      <td>1.0</td>\n      <td>0.0</td>\n      <td>3.0</td>\n      <td>0</td>\n    </tr>\n    <tr>\n      <th>4</th>\n      <td>56.0</td>\n      <td>1.0</td>\n      <td>2.0</td>\n      <td>120.0</td>\n      <td>236.0</td>\n      <td>0.0</td>\n      <td>0.0</td>\n      <td>178.0</td>\n      <td>0.0</td>\n      <td>0.8</td>\n      <td>1.0</td>\n      <td>0.0</td>\n      <td>3.0</td>\n      <td>0</td>\n    </tr>\n  </tbody>\n</table>\n</div>",
            "text/plain": "   63.0  1.0 1.0_1  145.0  233.0 1.0_2  2.0  150.0  0.0  2.3  3.0 0.0_3  6.0  \\\n0  67.0  1.0   4.0  160.0  286.0   0.0  2.0  108.0  1.0  1.5  2.0   3.0  3.0   \n1  67.0  1.0   4.0  120.0  229.0   0.0  2.0  129.0  1.0  2.6  2.0   2.0  7.0   \n2  37.0  1.0   3.0  130.0  250.0   0.0  0.0  187.0  0.0  3.5  3.0   0.0  3.0   \n3  41.0  0.0   2.0  130.0  204.0   0.0  2.0  172.0  0.0  1.4  1.0   0.0  3.0   \n4  56.0  1.0   2.0  120.0  236.0   0.0  0.0  178.0  0.0  0.8  1.0   0.0  3.0   \n\n   0  \n0  2  \n1  1  \n2  0  \n3  0  \n4  0  "
          },
          "metadata": {}
        }
      ],
      "execution_count": 24,
      "metadata": {}
    },
    {
      "cell_type": "code",
      "source": [
        "### Create \"new\" records, where there is heart disease presence in the first record and absence in the second\n",
        "record1 = list(hd_df.iloc[1, :-1])\n",
        "record2 = list(hd_df.iloc[2, :-1])\n",
        "X_new = [record1, record2]"
      ],
      "outputs": [],
      "execution_count": 25,
      "metadata": {}
    },
    {
      "cell_type": "code",
      "source": [
        "### Transform the data into JSON\n",
        "json_data = json.dumps({\"data\": X_new})"
      ],
      "outputs": [],
      "execution_count": 26,
      "metadata": {}
    },
    {
      "cell_type": "code",
      "source": [
        "### Pass the data and retrieve the model's scoring\n",
        "response = aci_service.run(input_data = json_data)\n",
        "print(response)"
      ],
      "outputs": [
        {
          "output_type": "stream",
          "name": "stdout",
          "text": "[1, 0]\n"
        }
      ],
      "execution_count": 27,
      "metadata": {}
    }
  ],
  "metadata": {
    "interpreter": {
      "hash": "571c55792dc721486b5eed87778009f63d6a6919288301ef3468b2aa442c50d5"
    },
    "kernel_info": {
      "name": "python3"
    },
    "kernelspec": {
      "name": "python3",
      "language": "python",
      "display_name": "Python 3"
    },
    "language_info": {
      "name": "python",
      "version": "3.8.1",
      "mimetype": "text/x-python",
      "codemirror_mode": {
        "name": "ipython",
        "version": 3
      },
      "pygments_lexer": "ipython3",
      "nbconvert_exporter": "python",
      "file_extension": ".py"
    },
    "nteract": {
      "version": "nteract-front-end@1.0.0"
    }
  },
  "nbformat": 4,
  "nbformat_minor": 2
}